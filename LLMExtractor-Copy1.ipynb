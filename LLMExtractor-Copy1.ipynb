{
 "cells": [
  {
   "cell_type": "code",
   "execution_count": 99,
   "id": "da917e01-7934-4128-b005-6f4aa09e133e",
   "metadata": {},
   "outputs": [],
   "source": [
    "# !pip install langchain-pinecone"
   ]
  },
  {
   "cell_type": "code",
   "execution_count": 7,
   "id": "a63995ec-30cd-4e7b-8272-4320af9f3c41",
   "metadata": {},
   "outputs": [],
   "source": [
    "# !pip install pinecone"
   ]
  },
  {
   "cell_type": "code",
   "execution_count": 23,
   "id": "4c7539a9-1f53-4c08-9411-b9a82cfa2f99",
   "metadata": {},
   "outputs": [],
   "source": [
    "import bs4\n",
    "from langchain_community.document_loaders import WebBaseLoader\n",
    "\n",
    "eur_lex = \"https://eur-lex.europa.eu/eli/reg/2016/679/oj/\"\n",
    "\n",
    "\n",
    "eur_lex_loader = WebBaseLoader(web_paths=[eur_lex])\n",
    "eur_lex_docs = eur_lex_loader.load()"
   ]
  },
  {
   "cell_type": "code",
   "execution_count": 95,
   "id": "e863eba1-9bcd-42b3-829d-3551ef123f6d",
   "metadata": {},
   "outputs": [
    {
     "name": "stdout",
     "output_type": "stream",
     "text": [
      "is Regulation is intended to contribute to the accomplishment of an area of freedom, security and justice and of an economic union, to economic and social progress, to the strengthening and the convergence of the economies within the internal market,\n"
     ]
    }
   ],
   "source": [
    "print(eur_lex_docs[0].page_content[10400:10650])"
   ]
  },
  {
   "cell_type": "code",
   "execution_count": 36,
   "id": "7a066ac3-874d-4250-bba5-b20252be7626",
   "metadata": {},
   "outputs": [],
   "source": [
    "from langchain_text_splitters import RecursiveCharacterTextSplitter\n",
    "\n",
    "text_splitter = RecursiveCharacterTextSplitter(\n",
    "    chunk_size=1000,\n",
    "    chunk_overlap=200,\n",
    ")\n",
    "splits = text_splitter.split_documents(eur_lex_docs)"
   ]
  },
  {
   "cell_type": "code",
   "execution_count": 37,
   "id": "d317c11a-dd55-44ea-a34c-705adbb78ff4",
   "metadata": {},
   "outputs": [
    {
     "name": "stdout",
     "output_type": "stream",
     "text": [
      "517\n"
     ]
    }
   ],
   "source": [
    "print(len(splits))"
   ]
  },
  {
   "cell_type": "code",
   "execution_count": 75,
   "id": "f8761bfb-2189-4591-a026-a1456bf0ab98",
   "metadata": {},
   "outputs": [],
   "source": [
    "texts = [doc.page_content for doc in splits]\n",
    "metadatas = [doc.metadata for doc in splits]  "
   ]
  },
  {
   "cell_type": "code",
   "execution_count": 79,
   "id": "34e601ca-e413-4ee0-b1f8-80bbecb68baf",
   "metadata": {},
   "outputs": [
    {
     "data": {
      "text/plain": [
       "{'source': 'https://eur-lex.europa.eu/eli/reg/2016/679/oj/',\n",
       " 'title': 'Regulation - 2016/679 - EN - gdpr - EUR-Lex',\n",
       " 'language': 'en'}"
      ]
     },
     "execution_count": 79,
     "metadata": {},
     "output_type": "execute_result"
    }
   ],
   "source": [
    "metadatas[5]"
   ]
  },
  {
   "cell_type": "code",
   "execution_count": 81,
   "id": "5b71e084-d259-4865-9837-af7bede0dcc0",
   "metadata": {},
   "outputs": [],
   "source": [
    "# from pinecone import Pinecone, ServerlessSpec\n",
    "# from langchain.vectorstores import Pinecone as LangPinecone\n",
    "# from langchain.embeddings import HuggingFaceEmbeddings\n",
    "\n",
    "# import os\n",
    "\n",
    "# # 1️⃣ Create Pinecone client instance\n",
    "# pc = Pinecone(\n",
    "#     api_key=os.environ[\"PINECONE_API_KEY\"]\n",
    "# )\n",
    "\n",
    "# # 2️⃣ Create index if it doesn't exist\n",
    "# if \"cra-index\" not in pc.list_indexes().names():\n",
    "#     pc.create_index(\n",
    "#         name=\"cra-index\",\n",
    "#         dimension=384,          # must match your embedding size\n",
    "#         metric=\"cosine\",\n",
    "#         spec=ServerlessSpec(\n",
    "#             cloud=\"aws\",\n",
    "#             region=\"us-east-1\"   # pick your cloud region\n",
    "#         )\n",
    "#     )"
   ]
  },
  {
   "cell_type": "code",
   "execution_count": 59,
   "id": "f516233c-b4d8-405d-9ba9-7a072d0fdd5c",
   "metadata": {},
   "outputs": [],
   "source": [
    "import os\n",
    "from pinecone import Pinecone, ServerlessSpec\n",
    "\n",
    "pc = Pinecone(\n",
    "    api_key=os.environ[\"PINECONE_API_KEY\"],\n",
    "    environment=\"us-east-1\"\n",
    ")"
   ]
  },
  {
   "cell_type": "code",
   "execution_count": 60,
   "id": "10a1a79d-d94d-4360-9ff0-ed79fb7e81dc",
   "metadata": {},
   "outputs": [
    {
     "name": "stdout",
     "output_type": "stream",
     "text": [
      "['cra-index']\n"
     ]
    }
   ],
   "source": [
    "print(pc.list_indexes().names())"
   ]
  },
  {
   "cell_type": "code",
   "execution_count": 64,
   "id": "1a9f6622-eedd-4734-b8fd-64da4f052fac",
   "metadata": {},
   "outputs": [
    {
     "name": "stdout",
     "output_type": "stream",
     "text": [
      "{'deletion_protection': 'disabled',\n",
      " 'dimension': 384,\n",
      " 'host': 'cra-index-z61yr43.svc.aped-4627-b74a.pinecone.io',\n",
      " 'metric': 'cosine',\n",
      " 'name': 'cra-index',\n",
      " 'spec': {'serverless': {'cloud': 'aws', 'region': 'us-east-1'}},\n",
      " 'status': {'ready': True, 'state': 'Ready'},\n",
      " 'tags': None,\n",
      " 'vector_type': 'dense'}\n"
     ]
    }
   ],
   "source": [
    "index_info = pc.describe_index(\"cra-index\")\n",
    "print(index_info)"
   ]
  },
  {
   "cell_type": "code",
   "execution_count": 80,
   "id": "d7db3c0e-e7dd-4149-9f61-91356e508149",
   "metadata": {},
   "outputs": [
    {
     "name": "stdout",
     "output_type": "stream",
     "text": [
      "✅ Documents stored in Pinecone\n"
     ]
    }
   ],
   "source": [
    "from langchain_pinecone import Pinecone as LangPinecone\n",
    "from langchain.embeddings import HuggingFaceEmbeddings\n",
    "\n",
    "\n",
    "embedding = HuggingFaceEmbeddings(model_name=\"all-MiniLM-L6-v2\")\n",
    "\n",
    "# vectorstore = LangPinecone.from_texts(\n",
    "#     texts=texts,\n",
    "#     embedding=embedding,\n",
    "#     index_name=\"cra-index\",\n",
    "#     metadatas=metadatas  # optional\n",
    "# )\n",
    "# print(\"✅ Documents stored in Pinecone\")"
   ]
  },
  {
   "cell_type": "code",
   "execution_count": 85,
   "id": "ad987df7-9f16-48bb-bfff-fa65993b1b14",
   "metadata": {},
   "outputs": [
    {
     "name": "stdout",
     "output_type": "stream",
     "text": [
      "{'dimension': 384,\n",
      " 'index_fullness': 0.0,\n",
      " 'metric': 'cosine',\n",
      " 'namespaces': {'': {'vector_count': 517}},\n",
      " 'total_vector_count': 517,\n",
      " 'vector_type': 'dense'}\n"
     ]
    }
   ],
   "source": [
    "# Target the index\n",
    "index_name=\"cra-index\"\n",
    "dense_index = pc.Index(index_name)\n",
    "\n",
    "\n",
    "# View stats for the index\n",
    "stats = dense_index.describe_index_stats()\n",
    "print(stats)"
   ]
  },
  {
   "cell_type": "code",
   "execution_count": 91,
   "id": "fbfa0b11-364c-428c-be2b-7ecab8c6c18d",
   "metadata": {},
   "outputs": [
    {
     "name": "stdout",
     "output_type": "stream",
     "text": [
      "id: ab425280-fb09-432c-a6fc-14d2c5b22660 | score: 0.65  | metadata: {'language': 'en', 'source': 'https://eur-lex.europa.eu/eli/reg/2016/679/oj/', 'text': 'Having regard to the opinion of the European Economic and Social Committee\\xa0(1),\\n\\n\\nHaving regard to the opinion of the Committee of the Regions\\xa0(2),\\n\\n\\nActing in accordance with the ordinary legislative procedure\\xa0(3),\\n\\nWhereas:\\n\\n\\n\\n\\n\\n\\n\\n(1)\\n\\n\\nThe protection of natural persons in relation to the processing of personal data is a fundamental right. Article\\xa08(1) of the Charter of Fundamental Rights of the European Union (the ‘Charter’) and Article 16(1) of the Treaty on the Functioning of the European Union (TFEU) provide that everyone has the right to the protection of personal data concerning him or her.\\n\\n\\n\\n\\n\\n\\n\\n\\n\\n\\n\\n\\n(2)', 'title': 'Regulation - 2016/679 - EN - gdpr - EUR-Lex'}\n",
      "id: 18389c35-dc3a-4407-8948-d540a1d2af92 | score: 0.63  | metadata: {'language': 'en', 'source': 'https://eur-lex.europa.eu/eli/reg/2016/679/oj/', 'text': '(9)\\n\\n\\nThe objectives and principles of Directive 95/46/EC remain sound, but it has not prevented fragmentation in the implementation of data protection across the Union, legal uncertainty or a widespread public perception that there are significant risks to the protection of natural persons, in particular with regard to online activity. Differences in the level of protection of the rights and freedoms of natural persons, in particular the right to the protection of personal data, with regard to the processing of personal data in the Member\\xa0States may prevent the free flow of personal data throughout the Union. Those differences may therefore constitute an obstacle to the pursuit of economic activities at the level of the Union, distort competition and impede authorities in the discharge of their responsibilities under Union law. Such a difference in levels of protection is due to the existence of differences in the implementation and application of Directive 95/46/EC.', 'title': 'Regulation - 2016/679 - EN - gdpr - EUR-Lex'}\n",
      "id: ce53f84d-40a1-4983-bf08-90f3f82503fa | score: 0.63  | metadata: {'language': 'en', 'source': 'https://eur-lex.europa.eu/eli/reg/2016/679/oj/', 'text': '(2)\\n\\n\\nThe principles of, and rules on the protection of natural persons with regard to the processing of their personal data should, whatever their nationality or residence, respect their fundamental rights and freedoms, in particular their right to the protection of personal data. This Regulation is intended to contribute to the accomplishment of an area of freedom, security and justice and of an economic union, to economic and social progress, to the strengthening and the convergence of the economies within the internal market, and to the well-being of natural persons.\\n\\n\\n\\n\\n\\n\\n\\n\\n\\n\\n\\n\\n(3)\\n\\n\\nDirective 95/46/EC of the European Parliament and of the Council\\xa0(4) seeks to harmonise the protection of fundamental rights and freedoms of natural persons in respect of processing activities and to ensure the free flow of personal data between Member\\xa0States.\\n\\n\\n\\n\\n\\n\\n\\n\\n\\n\\n\\n\\n(4)', 'title': 'Regulation - 2016/679 - EN - gdpr - EUR-Lex'}\n"
     ]
    }
   ],
   "source": [
    "# Define the query\n",
    "query = \"What is the fundamental right protected under GDPR?\"\n",
    "\n",
    "query_vector = embedding.embed_query(query)\n",
    "\n",
    "# # Search the dense index\n",
    "# results = dense_index.search(\n",
    "#     namespace='__default__',\n",
    "#     query={\n",
    "#         \"top_k\": 3,\n",
    "#         \"inputs\": {\n",
    "#             'text': query_vector\n",
    "#         }\n",
    "#     }\n",
    "# )\n",
    "\n",
    "# 2️⃣ Search using the vector\n",
    "results = dense_index.query(\n",
    "    namespace='__default__',\n",
    "    top_k=3,\n",
    "    vector=query_vector,\n",
    "    include_metadata=True\n",
    ")\n",
    "\n",
    "for hit in results['matches']:\n",
    "    print(f\"id: {hit['id']:<5} | score: {round(hit['score'], 2):<5} | metadata: {hit['metadata']}\")"
   ]
  },
  {
   "cell_type": "code",
   "execution_count": 98,
   "id": "0b743415-5e2c-4724-b037-87d6a48234bb",
   "metadata": {},
   "outputs": [],
   "source": [
    "# !pip list"
   ]
  },
  {
   "cell_type": "code",
   "execution_count": null,
   "id": "4ea055ec-a4f3-46c8-95fe-bef26a209606",
   "metadata": {},
   "outputs": [],
   "source": []
  }
 ],
 "metadata": {
  "kernelspec": {
   "display_name": "Python 3 (ipykernel)",
   "language": "python",
   "name": "python3"
  },
  "language_info": {
   "codemirror_mode": {
    "name": "ipython",
    "version": 3
   },
   "file_extension": ".py",
   "mimetype": "text/x-python",
   "name": "python",
   "nbconvert_exporter": "python",
   "pygments_lexer": "ipython3",
   "version": "3.11.9"
  }
 },
 "nbformat": 4,
 "nbformat_minor": 5
}
